{
 "cells": [
  {
   "cell_type": "code",
   "execution_count": 1,
   "id": "96fc6a9c",
   "metadata": {},
   "outputs": [],
   "source": [
    "import os\n",
    "import shutil\n",
    "import gzip\n",
    "from urllib.request import urlretrieve\n",
    "\n",
    "import jsonlines"
   ]
  },
  {
   "cell_type": "code",
   "execution_count": 2,
   "id": "6d40d8d9",
   "metadata": {},
   "outputs": [],
   "source": [
    "\"\"\"\n",
    "Download Papers Dumps from 'Semantic Scholar'\n",
    "url: https://api.semanticscholar.org/corpus/download/\n",
    "released version: 2022-05-01\n",
    "\"\"\"\n",
    "url='https://s3-us-west-2.amazonaws.com/ai2-s2-research-public/open-corpus/2022-05-01/'\n",
    "os.mkdir('./papers_dump')"
   ]
  },
  {
   "cell_type": "code",
   "execution_count": 3,
   "id": "474c1b16",
   "metadata": {},
   "outputs": [],
   "source": [
    "# Download Manifest\n",
    "urlretrieve(url+'manifest.txt', './papers_dump/manifest.txt')\n",
    "\n",
    "with open('./papers_dump/manifest.txt', 'r') as f:\n",
    "    files=f.read()\n",
    "    f.close()"
   ]
  },
  {
   "cell_type": "code",
   "execution_count": 4,
   "id": "aa503b2f",
   "metadata": {},
   "outputs": [],
   "source": [
    "def read_dump(dump):\n",
    "    \"\"\"\n",
    "    Extract Interested Papers (e.g. cs.CL Papers since 2018) from Dump\n",
    "    Using 'arXiv' API (https://arxiv.org/help/api/)\n",
    "    \"\"\"\n",
    "    with jsonlines.open(dump) as reader:\n",
    "        for paper in reader:\n",
    "            print(paper['title'])\n",
    "            print(paper['fieldsOfStudy'])\n",
    "            break"
   ]
  },
  {
   "cell_type": "code",
   "execution_count": 5,
   "id": "9310d68b",
   "metadata": {},
   "outputs": [
    {
     "name": "stdout",
     "output_type": "stream",
     "text": [
      "USING PHOTO IMAGES TO DETERMINE THE GEOMETRIC PARAMETERS OF LARGE OBJECTS\n",
      "['Computer Science']\n",
      "Compostelle sur les traces de saint Jacques : Prodiges et découverte des reliques\n",
      "[]\n",
      "豊かなつながりのある学級づくり ―つながる力を育む生活・教科指導のありかた―\n",
      "[]\n"
     ]
    }
   ],
   "source": [
    "for file in files.split()[:3]:\n",
    "    # Download Dump\n",
    "    urlretrieve(url+file, './papers_dump/'+file)\n",
    "    \n",
    "    # Decompress\n",
    "    with gzip.open('./papers_dump/'+file, 'rb') as f_in:\n",
    "        with open('./papers_dump/'+file.split('.')[0], 'wb') as f_out:\n",
    "            shutil.copyfileobj(f_in, f_out)\n",
    "            \n",
    "    # Extract Papers\n",
    "    read_dump('./papers_dump/'+file.split('.')[0])\n",
    "            \n",
    "    # Delete Dump & Decompressed File\n",
    "    os.remove('./papers_dump/'+file)\n",
    "    os.remove('./papers_dump/'+file.split('.')[0])"
   ]
  },
  {
   "cell_type": "code",
   "execution_count": 6,
   "id": "3e21f53b",
   "metadata": {},
   "outputs": [],
   "source": [
    "shutil.rmtree('./papers_dump')"
   ]
  },
  {
   "cell_type": "code",
   "execution_count": null,
   "id": "c599c5b6",
   "metadata": {},
   "outputs": [],
   "source": []
  }
 ],
 "metadata": {
  "kernelspec": {
   "display_name": "Python 3 (ipykernel)",
   "language": "python",
   "name": "python3"
  },
  "language_info": {
   "codemirror_mode": {
    "name": "ipython",
    "version": 3
   },
   "file_extension": ".py",
   "mimetype": "text/x-python",
   "name": "python",
   "nbconvert_exporter": "python",
   "pygments_lexer": "ipython3",
   "version": "3.8.12"
  }
 },
 "nbformat": 4,
 "nbformat_minor": 5
}
