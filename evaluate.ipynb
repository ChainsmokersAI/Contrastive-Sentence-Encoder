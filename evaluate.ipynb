{
 "cells": [
  {
   "cell_type": "code",
   "execution_count": 1,
   "id": "e0cd5d83",
   "metadata": {},
   "outputs": [],
   "source": [
    "import torch\n",
    "\n",
    "from transformers import AutoTokenizer, AutoModel\n",
    "\n",
    "import numpy as np\n",
    "from scipy import spatial, stats\n",
    "\n",
    "from models import SupervisedSimCSE, UnsupervisedSimCSE"
   ]
  },
  {
   "cell_type": "code",
   "execution_count": 2,
   "id": "0f10e60f",
   "metadata": {},
   "outputs": [
    {
     "name": "stderr",
     "output_type": "stream",
     "text": [
      "Some weights of the model checkpoint at roberta-base were not used when initializing RobertaModel: ['lm_head.dense.weight', 'lm_head.dense.bias', 'lm_head.layer_norm.weight', 'lm_head.bias', 'lm_head.decoder.weight', 'lm_head.layer_norm.bias']\n",
      "- This IS expected if you are initializing RobertaModel from the checkpoint of a model trained on another task or with another architecture (e.g. initializing a BertForSequenceClassification model from a BertForPreTraining model).\n",
      "- This IS NOT expected if you are initializing RobertaModel from the checkpoint of a model that you expect to be exactly identical (initializing a BertForSequenceClassification model from a BertForSequenceClassification model).\n"
     ]
    }
   ],
   "source": [
    "# Device\n",
    "device=torch.device(\"cuda:0\")\n",
    "\n",
    "# Load Pre-Trained Tokenizer, LM\n",
    "tokenizer=AutoTokenizer.from_pretrained(\"roberta-base\")\n",
    "pretrained=AutoModel.from_pretrained(\"roberta-base\").to(device)\n",
    "\n",
    "# Load Trained Model: Supervised SimCSE\n",
    "#model=SupervisedSimCSE(pretrained=pretrained)\n",
    "# Load Trained Model: Unsupervised SimCSE\n",
    "model=UnsupervisedSimCSE(pretrained=pretrained)\n",
    "model.load_state_dict(torch.load(\"./model/SimCSE_Unsup_batch128_lr5e-05_step5500.pth\"))\n",
    "model=model.to(device)"
   ]
  },
  {
   "cell_type": "code",
   "execution_count": 3,
   "id": "023657b7",
   "metadata": {},
   "outputs": [],
   "source": [
    "# STS Benchmark Dataset\n",
    "# https://ixa2.si.ehu.eus/stswiki/index.php/STSbenchmark\n",
    "with open(\"./dataset/stsbenchmark/sts-test.csv\", \"r\") as f:\n",
    "    stsb_test=f.read()\n",
    "    f.close()"
   ]
  },
  {
   "cell_type": "code",
   "execution_count": 4,
   "id": "b7bca301",
   "metadata": {},
   "outputs": [],
   "source": [
    "# Eval Mode\n",
    "model.eval()\n",
    "\n",
    "preds=[]\n",
    "labels=[]\n",
    "for data in stsb_test.split('\\n')[:-1]:\n",
    "    label, sent1, sent2=data.split('\\t')[4:7]\n",
    "    labels.append(float(label))\n",
    "    \n",
    "    repr_sent1=model.get_embedding(tokenizer.encode(sent1, return_tensors='pt').to(device))\n",
    "    repr_sent2=model.get_embedding(tokenizer.encode(sent2, return_tensors='pt').to(device))\n",
    "    \n",
    "    pred=1-spatial.distance.cosine(np.array(repr_sent1.detach().cpu()), np.array(repr_sent2.detach().cpu()))\n",
    "    preds.append(pred)"
   ]
  },
  {
   "cell_type": "code",
   "execution_count": 5,
   "id": "36f0fff2",
   "metadata": {},
   "outputs": [
    {
     "data": {
      "text/plain": [
       "array([[1.        , 0.80023531],\n",
       "       [0.80023531, 1.        ]])"
      ]
     },
     "execution_count": 5,
     "metadata": {},
     "output_type": "execute_result"
    }
   ],
   "source": [
    "np.corrcoef(preds, labels)"
   ]
  },
  {
   "cell_type": "code",
   "execution_count": 6,
   "id": "ca899d1b",
   "metadata": {},
   "outputs": [
    {
     "data": {
      "text/plain": [
       "SpearmanrResult(correlation=0.7906730267882331, pvalue=1.056991534041716e-295)"
      ]
     },
     "execution_count": 6,
     "metadata": {},
     "output_type": "execute_result"
    }
   ],
   "source": [
    "stats.spearmanr(preds, labels)"
   ]
  },
  {
   "cell_type": "code",
   "execution_count": null,
   "id": "d0626e6e",
   "metadata": {},
   "outputs": [],
   "source": []
  }
 ],
 "metadata": {
  "kernelspec": {
   "display_name": "Python 3 (ipykernel)",
   "language": "python",
   "name": "python3"
  },
  "language_info": {
   "codemirror_mode": {
    "name": "ipython",
    "version": 3
   },
   "file_extension": ".py",
   "mimetype": "text/x-python",
   "name": "python",
   "nbconvert_exporter": "python",
   "pygments_lexer": "ipython3",
   "version": "3.8.12"
  }
 },
 "nbformat": 4,
 "nbformat_minor": 5
}
